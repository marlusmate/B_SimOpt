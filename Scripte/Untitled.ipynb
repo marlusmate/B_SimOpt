{
 "cells": [
  {
   "cell_type": "code",
   "execution_count": 1,
   "id": "a5284fda",
   "metadata": {},
   "outputs": [],
   "source": [
    "import pandas as pd\n",
    "import numpy as np"
   ]
  },
  {
   "cell_type": "code",
   "execution_count": 2,
   "id": "fe02b3e2",
   "metadata": {},
   "outputs": [
    {
     "name": "stdout",
     "output_type": "stream",
     "text": [
      "Datensatz erfolgreich geladen: \n",
      "      P4-B14    P5-B13    P6-B12    P7-B11    P8-B10   P13-B20   P14-B08  \\\n",
      "0  2.226661  2.310632  1.915811  2.165019  1.802742  1.831228  1.884819   \n",
      "1  2.237491  2.324412  1.924254  2.184315  1.855768  1.831228  1.890925   \n",
      "2  2.233881  2.338192  1.921842  2.176045  1.830460  1.831228  1.887262   \n",
      "3  2.238694  2.365751  1.925460  2.180180  1.859383  1.833635  1.894589   \n",
      "4  2.230271  2.314766  1.915811  2.153992  1.841306  1.827618  1.886041   \n",
      "\n",
      "    P15-B09   P17-B05               exp  Slugflow  AirFlow  WaterFlow  \n",
      "0  1.783888  0.899455  0912Test10_100_1         0      100          1  \n",
      "1  1.789922  0.904265  0912Test10_100_1         0      100          1  \n",
      "2  1.787508  0.897049  0912Test10_100_1         0      100          1  \n",
      "3  1.791128  0.901058  0912Test10_100_1         0      100          1  \n",
      "4  1.783888  0.899455  0912Test10_100_1         0      100          1  \n"
     ]
    }
   ],
   "source": [
    "df = pd.read_csv('Concatted/pressure_data.csv')\n",
    "print(\"Datensatz erfolgreich geladen: \\n\", df.head(5))"
   ]
  },
  {
   "cell_type": "code",
   "execution_count": 3,
   "id": "cfbede83",
   "metadata": {},
   "outputs": [],
   "source": [
    "##dataprep\n",
    "drop_col = ['exp', 'Slugflow', 'AirFlow', 'WaterFlow']\n",
    "col = list(df.columns)\n",
    "col = [i for i in col if i not in drop_col]\n",
    "##Allg. Metriken\n",
    "df = df[df['P4-B14'] <= 50]\n",
    "df = df[df['P5-B13'] >= -50]"
   ]
  },
  {
   "cell_type": "code",
   "execution_count": 4,
   "id": "db4d6d02",
   "metadata": {},
   "outputs": [
    {
     "name": "stdout",
     "output_type": "stream",
     "text": [
      "             P4-B14        P5-B13        P6-B12        P7-B11        P8-B10  \\\n",
      "count  5.348261e+06  5.348261e+06  5.348261e+06  5.348261e+06  5.348261e+06   \n",
      "mean   2.341130e+00  2.447945e+00  2.007325e+00  2.239641e+00  1.864486e+00   \n",
      "std    8.023597e-01  6.813360e-01  5.068570e-01  5.495071e-01  4.545812e-01   \n",
      "min    1.354253e+00  1.470065e+00  1.293412e+00  1.244306e+00  1.098948e+00   \n",
      "25%    1.734502e+00  1.924798e+00  1.625117e+00  1.816306e+00  1.509896e+00   \n",
      "50%    2.069026e+00  2.238977e+00  1.868769e+00  2.090590e+00  1.741281e+00   \n",
      "75%    2.738073e+00  2.783279e+00  2.255958e+00  2.510975e+00  2.096793e+00   \n",
      "max    4.654965e+00  4.697290e+00  3.529704e+00  3.977499e+00  3.463407e+00   \n",
      "\n",
      "            P13-B20       P14-B08       P15-B09       P17-B05  \n",
      "count  5.348261e+06  5.348261e+06  5.348261e+06  5.348261e+06  \n",
      "mean   1.826018e+00  1.875291e+00  1.775141e+00  8.822025e-01  \n",
      "std    4.107886e-01  4.054261e-01  4.133908e-01  7.078102e-02  \n",
      "min    1.304111e+00  1.360916e+00  1.239672e+00  7.864059e-01  \n",
      "25%    1.496665e+00  1.551427e+00  1.444809e+00  8.361152e-01  \n",
      "50%    1.716899e+00  1.765140e+00  1.663220e+00  8.569611e-01  \n",
      "75%    2.037020e+00  2.072887e+00  1.974545e+00  9.018598e-01  \n",
      "max    3.277792e+00  3.288000e+00  3.329656e+00  1.366882e+00  \n"
     ]
    }
   ],
   "source": [
    "metr = df[col].describe()\n",
    "print(metr)\n",
    "#metr.to_excel(\"PressureDescriptiveMetrics.xlsx\", sheet_name=\"Sheet_LongData_1\")\n"
   ]
  },
  {
   "cell_type": "code",
   "execution_count": 5,
   "id": "74fc8200",
   "metadata": {},
   "outputs": [],
   "source": [
    "def shorten(d_in, col_ex, rows, method):\n",
    "    i=0\n",
    "    j=0\n",
    "    df_temp = d_in[col_ex]\n",
    "    df_temp = df_temp[:-(len(df_temp)%rows)]\n",
    "    ind = d_in.iloc[np.arange(0,len(df_temp),rows)]['Slugflow']\n",
    "    df_sh = pd.DataFrame(np.ones((int(len(df_temp)/rows),len(col_ex))), columns=col_ex)\n",
    "    for i in np.arange(0,len(df_temp),rows): #Loop über Großen Datensatz\n",
    "        if method == \"mean\":\n",
    "            df_sh.iloc[j] = [np.mean(df_temp.iloc[i:i+rows-1][c]) for c in col_ex] #Loop Durch Spalten\n",
    "        if method == \"median\":\n",
    "            df_sh.iloc[j] = [np.median(df_temp.iloc[i:i + rows - 1][c]) for c in col_ex]\n",
    "        #if method == \"fft\":\n",
    "            df_sh.iloc[j] = [np.fft.fft(df.iloc[i:i + rows - 1][c]) for c in col_ex]\n",
    "        j= j+1 #Loop durch kleinen, zu erstellenden Datensatz\n",
    "    df_sh = df_sh.assign(Slugflow=ind.tolist())\n",
    "    return df_sh"
   ]
  },
  {
   "cell_type": "code",
   "execution_count": 6,
   "id": "e9c135af",
   "metadata": {},
   "outputs": [
    {
     "name": "stdout",
     "output_type": "stream",
     "text": [
      "\n",
      "Mextrics OG Data: \n",
      "              P4-B14        P5-B13        P6-B12        P7-B11        P8-B10  \\\n",
      "count  5.348261e+06  5.348261e+06  5.348261e+06  5.348261e+06  5.348261e+06   \n",
      "mean   2.341130e+00  2.447945e+00  2.007325e+00  2.239641e+00  1.864486e+00   \n",
      "std    8.023597e-01  6.813360e-01  5.068570e-01  5.495071e-01  4.545812e-01   \n",
      "min    1.354253e+00  1.470065e+00  1.293412e+00  1.244306e+00  1.098948e+00   \n",
      "25%    1.734502e+00  1.924798e+00  1.625117e+00  1.816306e+00  1.509896e+00   \n",
      "50%    2.069026e+00  2.238977e+00  1.868769e+00  2.090590e+00  1.741281e+00   \n",
      "75%    2.738073e+00  2.783279e+00  2.255958e+00  2.510975e+00  2.096793e+00   \n",
      "max    4.654965e+00  4.697290e+00  3.529704e+00  3.977499e+00  3.463407e+00   \n",
      "\n",
      "            P13-B20       P14-B08       P15-B09       P17-B05      Slugflow  \\\n",
      "count  5.348261e+06  5.348261e+06  5.348261e+06  5.348261e+06  5.348261e+06   \n",
      "mean   1.826018e+00  1.875291e+00  1.775141e+00  8.822025e-01  3.926510e-01   \n",
      "std    4.107886e-01  4.054261e-01  4.133908e-01  7.078102e-02  4.883403e-01   \n",
      "min    1.304111e+00  1.360916e+00  1.239672e+00  7.864059e-01  0.000000e+00   \n",
      "25%    1.496665e+00  1.551427e+00  1.444809e+00  8.361152e-01  0.000000e+00   \n",
      "50%    1.716899e+00  1.765140e+00  1.663220e+00  8.569611e-01  0.000000e+00   \n",
      "75%    2.037020e+00  2.072887e+00  1.974545e+00  9.018598e-01  1.000000e+00   \n",
      "max    3.277792e+00  3.288000e+00  3.329656e+00  1.366882e+00  1.000000e+00   \n",
      "\n",
      "            AirFlow     WaterFlow  \n",
      "count  5.348261e+06  5.348261e+06  \n",
      "mean   8.036745e+01  7.787253e+00  \n",
      "std    6.159133e+01  1.233783e+01  \n",
      "min    2.000000e+01  1.000000e+00  \n",
      "25%    2.000000e+01  1.000000e+00  \n",
      "50%    5.000000e+01  2.000000e+00  \n",
      "75%    1.000000e+02  5.000000e+00  \n",
      "max    2.000000e+02  3.500000e+01  \n",
      "Metrics gekürtzte Data: \n",
      "             P4-B14       P5-B13       P6-B12       P7-B11       P8-B10  \\\n",
      "count  1069.000000  1069.000000  1069.000000  1069.000000  1069.000000   \n",
      "mean      2.341480     2.448271     2.007564     2.239891     1.864690   \n",
      "std       0.799587     0.677954     0.502920     0.543934     0.448120   \n",
      "min       1.418271     1.592531     1.328040     1.519549     1.300955   \n",
      "25%       1.738261     1.926440     1.628349     1.819480     1.517170   \n",
      "50%       2.070711     2.238153     1.870662     2.092733     1.741450   \n",
      "75%       2.737534     2.777069     2.242714     2.494889     2.071322   \n",
      "max       4.466828     4.263734     3.326413     3.709081     3.125504   \n",
      "\n",
      "           P13-B20      P14-B08      P15-B09      P17-B05     Slugflow  \n",
      "count  1069.000000  1069.000000  1069.000000  1069.000000  1069.000000  \n",
      "mean      1.826203     1.875478     1.775328     0.882225     0.391955  \n",
      "std       0.406294     0.401086     0.408404     0.060637     0.488415  \n",
      "min       1.343400     1.396595     1.288268     0.816036     0.000000  \n",
      "25%       1.500664     1.554546     1.448014     0.837608     0.000000  \n",
      "50%       1.711549     1.761023     1.661864     0.861824     0.000000  \n",
      "75%       2.026022     2.056980     1.964554     0.906433     1.000000  \n",
      "max       3.043972     3.070876     2.998706     1.137536     1.000000  \n"
     ]
    }
   ],
   "source": [
    "#Zusammenfassen Datensatz\n",
    "n_rows = 5000\n",
    "df_t = shorten(df, col, n_rows, \"mean\")\n",
    "print(\"\\nMextrics OG Data: \\n\", df.describe())\n",
    "print(\"Metrics gekürtzte Data: \\n\", df_t.describe())\n",
    "#df_t.describe().to_excel(\"PressureDescriptiveMetricsShortData.xlsx\", sheet_name=\"Sheet_ShortData_1\")"
   ]
  },
  {
   "cell_type": "code",
   "execution_count": 7,
   "id": "4f774d24",
   "metadata": {},
   "outputs": [],
   "source": [
    "import matplotlib.pyplot as plt\n",
    "import seaborn as sns"
   ]
  },
  {
   "cell_type": "code",
   "execution_count": 8,
   "id": "ff458361",
   "metadata": {},
   "outputs": [],
   "source": [
    "def fisher_score(fe, c):\n",
    "    m_f = np.mean(fe)\n",
    "    m_f_c = [np.mean(fe[i==c]) for i in set(c)]\n",
    "    diff_sq = np.square([m_f_c-np.ones(len(m_f_c))*m_f])\n",
    "    v_f_c=  [np.var(fe[i==c]) for i in set(c)]\n",
    "    return sum(len(fe)*diff_sq)/sum(len(fe)*np.square(v_f_c))\n",
    "\n"
   ]
  },
  {
   "cell_type": "code",
   "execution_count": 10,
   "id": "461918a3",
   "metadata": {},
   "outputs": [],
   "source": [
    "def fft(da,dr):\n",
    "    da_f=da.drop(columns=dr)\n",
    "    da_f = pd.DataFrame((np.fft.fft(da_f.iloc[:][col])*np.conj(np.fft.fft(da_f.iloc[:][col]))/len(da_f)).real, columns=da_f.columns)\n",
    "    #np.fft.fft liefert fhat Vektor mit Magnitude&Amplitude(zusammengefasst in img Zahl) zuo vielen Frequenzen wie es Messpunkte gibt\n",
    "    #PowerSpectrum\n",
    "    da_f = da_f.assign(Slugflow=da['Slugflow'])\n",
    "    return da_f"
   ]
  },
  {
   "cell_type": "code",
   "execution_count": 11,
   "id": "c9c42c6d",
   "metadata": {},
   "outputs": [
    {
     "name": "stdout",
     "output_type": "stream",
     "text": [
      "Verhältnis normal/slugging:  1.5513126491646778\n",
      "\n",
      "Umgemodelten Datensatz zur visualisierung erstellt, data\n",
      "Neuer Datensatz: \n",
      "       Slugflow Messpunkt     value\n",
      "6340         1   P13-B20  1.380773\n",
      "1668         0    P5-B13  1.624554\n",
      "6642         0   P14-B08  2.002078\n",
      "8838         1   P17-B05  0.847797\n",
      "8382         0   P15-B09  2.240601\n",
      "7814         1   P15-B09  1.713408\n",
      "7900         1   P15-B09  1.575561 \n",
      " Shape:  (9621, 3)\n"
     ]
    }
   ],
   "source": [
    "data_t = pd.melt(df_t, id_vars= 'Slugflow', value_vars= col, var_name=\"Messpunkt\")\n",
    "print(\"Verhältnis normal/slugging: \", np.count_nonzero(df_t['Slugflow']==0)/np.count_nonzero(df_t['Slugflow']==1))\n",
    "print(\"\\nUmgemodelten Datensatz zur visualisierung erstellt, data\")\n",
    "print(\"Neuer Datensatz: \\n\", data_t.sample(7), \"\\n Shape: \", data_t.shape)\n",
    "#Erstellen ParrallelDatensatz (auch kurz) FF-transformiert\n",
    "df_f= fft(df_t, 'Slugflow')\n",
    "data_f = pd.melt(df_f, id_vars= 'Slugflow', value_vars= col, var_name=\"Messpunkt\")"
   ]
  },
  {
   "cell_type": "code",
   "execution_count": 12,
   "id": "20b511a2",
   "metadata": {},
   "outputs": [
    {
     "data": {
      "text/plain": [
       "9626.8698"
      ]
     },
     "execution_count": 12,
     "metadata": {},
     "output_type": "execute_result"
    }
   ],
   "source": [
    "(len(df)/5000)*9"
   ]
  },
  {
   "cell_type": "code",
   "execution_count": 13,
   "id": "8d86a71b",
   "metadata": {},
   "outputs": [
    {
     "name": "stdout",
     "output_type": "stream",
     "text": [
      "\n",
      "Anzahl Instanzen je Klase; Normal:  650  Slugging:  419\n",
      "Verhältnis normal/slugging:  325.0\n"
     ]
    },
    {
     "data": {
      "image/png": "[encoded data removed]",
      "text/plain": [
       "<Figure size 432x288 with 1 Axes>"
      ]
     },
     "metadata": {
      "needs_background": "light"
     },
     "output_type": "display_data"
    }
   ],
   "source": [
    "n_f = 1\n",
    "#Verteilung Klassen\n",
    "n_n = np.count_nonzero(df_t['Slugflow']==0)\n",
    "n_s = np.count_nonzero(df_t['Slugflow']==1)\n",
    "plt.figure(num=n_f)\n",
    "n_f = n_f+1\n",
    "plt.bar([\"Normal\", \"Slugging\"], [n_n, n_s])\n",
    "plt.ylabel(\"Instanzen\")\n",
    "plt.title(\"Klassen\")\n",
    "print(\"\\nAnzahl Instanzen je Klase; Normal: \", n_n, \" Slugging: \", n_s)\n",
    "print(\"Verhältnis normal/slugging: \", n_n/n_f)"
   ]
  },
  {
   "cell_type": "code",
   "execution_count": 18,
   "id": "ed0643bc",
   "metadata": {},
   "outputs": [],
   "source": [
    "dt= 1/5000\n",
    "ts = 30\n",
    "t=np.arange(0,ts,dt)\n",
    "n=len(t)\n",
    "x = df.iloc[0:30*5000]['P17-B05']\n",
    "xf= np.fft.fft(x)\n",
    "xpsd=x*np.conj(xf)/n\n",
    "freq= (1/(30*5000))*np.arange(n)\n",
    "L = np.arange(1,np.floor(n/2), dtype='int')"
   ]
  },
  {
   "cell_type": "code",
   "execution_count": 21,
   "id": "480589ee",
   "metadata": {},
   "outputs": [
    {
     "name": "stderr",
     "output_type": "stream",
     "text": [
      "C:\\Users\\Markus Esser\\Anaconda3\\lib\\site-packages\\numpy\\core\\_asarray.py:83: ComplexWarning: Casting complex values to real discards the imaginary part\n",
      "  return array(a, dtype, copy=False, order=order)\n"
     ]
    },
    {
     "data": {
      "text/plain": [
       "[<matplotlib.lines.Line2D at 0x204b542e470>]"
      ]
     },
     "execution_count": 21,
     "metadata": {},
     "output_type": "execute_result"
    },
    {
     "data": {
      "image/png": "[encoded data removed]",
      "text/plain": [
       "<Figure size 432x288 with 1 Axes>"
      ]
     },
     "metadata": {
      "needs_background": "light"
     },
     "output_type": "display_data"
    }
   ],
   "source": [
    "plt.plot(freq, xpsd)"
   ]
  },
  {
   "cell_type": "code",
   "execution_count": null,
   "id": "8bd816a4",
   "metadata": {},
   "outputs": [],
   "source": [
    "#Fisher Score\n",
    "##df_t\n",
    "fish_sc = pd.DataFrame([fisher_score(df_t[i],df_t['Slugflow']) for i in col], columns=['0', '1'])\n",
    "fish_sc['Messpunkt'] = col\n",
    "fish_sc_melt = pd.melt(fish_sc, id_vars='Messpunkt', value_vars=['0', '1'], var_name='Slugging')\n",
    "fs_n= sns.barplot(x='Messpunkt', y='value', hue='Slugging', data=fish_sc_melt)\n",
    "fs_n.set_title(\"Fisher Score pre FFT\")\n",
    "plt.savefig('Abbildungen/pressure_FS_preFFT.png')"
   ]
  },
  {
   "cell_type": "code",
   "execution_count": null,
   "id": "6fc8f97f",
   "metadata": {},
   "outputs": [],
   "source": [
    "#IG\n",
    "import sklearn.feature_selection as skf\n",
    "##df_t\n",
    "ig_t= skf.mutual_info_classif(df_t.iloc[:][col], df_t['Slugflow'])\n",
    "plt.figure(num=n_f)\n",
    "n_f = n_f+1\n",
    "plt.bar(col, ig_t)\n",
    "plt.xlabel(\"Sensor\")\n",
    "plt.ylabel(\"Information Gain [-]\")\n",
    "plt.title(\"Information Gain Drucksensoren preFFT\")"
   ]
  },
  {
   "cell_type": "code",
   "execution_count": null,
   "id": "43330ef2",
   "metadata": {},
   "outputs": [],
   "source": [
    "##df_t\n",
    "df_s = df_t[df_t['Slugflow']==1]\n",
    "df_n = df_t[df_t['Slugflow']==0]\n",
    "df_median = df_t[col].median()\n",
    "df_s_median = df_s[col].median()\n",
    "df_n_median = df_n[col].median()\n",
    "plt.figure(num=n_f)\n",
    "n_f = n_f+1\n",
    "plt.plot(df_median, \"r--\") #Median beide Klassen\n",
    "plt.plot(df_s_median, \"bo-\")\n",
    "plt.plot(df_n_median, \"o-\", color='orange')\n",
    "plt.xlabel(\"Sensor\")\n",
    "plt.ylabel(\"Druck [barg]\")\n",
    "plt.title(\"Mediane der Drucksensoren\")\n",
    "plt.legend(['Alle', 'Slugging', 'Normal'])"
   ]
  },
  {
   "cell_type": "code",
   "execution_count": null,
   "id": "39c7a887",
   "metadata": {},
   "outputs": [],
   "source": [
    "#Boxplot (https://seaborn.pydata.org/examples/horizontal_boxplot.html)\n",
    "##df_t\n",
    "plt.figure(num=n_f)\n",
    "n_f = n_f+1\n",
    "sns.set_theme(style=\"ticks\")\n",
    "f, ax = plt.subplots(figsize=(7, 6))\n",
    "sns.boxplot(x=\"value\", y=\"Messpunkt\", data=data_t, hue=\"Slugflow\", whis=[0, 100], width=.6, palette=\"vlag\")"
   ]
  },
  {
   "cell_type": "code",
   "execution_count": null,
   "id": "62e3d256",
   "metadata": {},
   "outputs": [],
   "source": [
    "def fft(da,dr):\n",
    "    da_f=da.drop(columns=dr)\n",
    "    da_f = pd.DataFrame((np.fft.fft(da_f.iloc[:][col])*np.conj(np.fft.fft(da_f.iloc[:][col]))/len(da_f).real), columns=da_f.columns)\n",
    "    da_f = da_f.assign(Slugflow=da['Slugflow'])\n",
    "    return da_f"
   ]
  },
  {
   "cell_type": "code",
   "execution_count": null,
   "id": "82628262",
   "metadata": {},
   "outputs": [],
   "source": [
    "#Erstellen ParrallelDatensatz (auch kurz) FF-transformiert\n",
    "df_f= fft(df_t, 'Slugflow')\n",
    "data_f = pd.melt(df_f, id_vars= 'Slugflow', value_vars= col, var_name=\"Messpunkt\")"
   ]
  },
  {
   "cell_type": "code",
   "execution_count": null,
   "id": "1433b317",
   "metadata": {},
   "outputs": [],
   "source": [
    "fish_sc_f = pd.DataFrame([fisher_score(df_f[i],df_f['Slugflow']) for i in col], columns=['0', '1'])\n",
    "fish_sc_f['Messpunkt'] = col\n",
    "fish_sc_f_melt = pd.melt(fish_sc_f, id_vars='Messpunkt', value_vars=['0', '1'], var_name='Slugging')\n",
    "fs_f= sns.barplot(x='Messpunkt', y='value', hue='Slugging', data=fish_sc_f_melt)\n",
    "fs_f.set_title(\"Fisher Score post FFT\")\n",
    "#plt.savefig('Abbildungen/pressure_FS_postFFT.png')"
   ]
  },
  {
   "cell_type": "code",
   "execution_count": null,
   "id": "72768944",
   "metadata": {},
   "outputs": [],
   "source": [
    "df_f"
   ]
  },
  {
   "cell_type": "code",
   "execution_count": null,
   "id": "bc0d367b",
   "metadata": {},
   "outputs": [],
   "source": [
    "plt.plot(range(0,len(df.iloc[0:30*5000]['P17-B05'])), df.iloc[0:30*5000]['P17-B05'])\n",
    "plt.title(\"P17-B05\")\n",
    "plt.xlabel(\"Messreihe\")\n",
    "plt.ylabel(\"Druck [barg]\")"
   ]
  },
  {
   "cell_type": "code",
   "execution_count": null,
   "id": "b026b159",
   "metadata": {},
   "outputs": [],
   "source": [
    "print(df_f)"
   ]
  },
  {
   "cell_type": "code",
   "execution_count": null,
   "id": "03c96050",
   "metadata": {},
   "outputs": [],
   "source": [
    "p = df['P8-B10']\n",
    "pf = np.fft.fft(p)"
   ]
  }
 ],
 "metadata": {
  "kernelspec": {
   "display_name": "Python 3",
   "language": "python",
   "name": "python3"
  },
  "language_info": {
   "codemirror_mode": {
    "name": "ipython",
    "version": 3
   },
   "file_extension": ".py",
   "mimetype": "text/x-python",
   "name": "python",
   "nbconvert_exporter": "python",
   "pygments_lexer": "ipython3",
   "version": "3.7.0"
  }
 },
 "nbformat": 4,
 "nbformat_minor": 5
}
